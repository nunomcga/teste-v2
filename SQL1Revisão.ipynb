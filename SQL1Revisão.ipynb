{
  "nbformat": 4,
  "nbformat_minor": 0,
  "metadata": {
    "colab": {
      "provenance": []
    },
    "kernelspec": {
      "name": "python3",
      "display_name": "Python 3"
    },
    "language_info": {
      "name": "python"
    }
  },
  "cells": [
    {
      "cell_type": "code",
      "execution_count": null,
      "metadata": {
        "id": "yGx90AQ_oMKm"
      },
      "outputs": [],
      "source": [
        "import sqlite3\n",
        "conn = sqlite3.connect(':memory:')\n",
        "cursor = conn.cursor()\n"
      ]
    },
    {
      "cell_type": "code",
      "source": [
        "cursor.execute ('''\n",
        "CREATE TABLE clientes (\n",
        "  id_cliente INTEGER PRIMARY KEY,\n",
        "  nome TEXT NOT NULL\n",
        ");\n",
        "''')"
      ],
      "metadata": {
        "id": "jdG349f2oZdu",
        "colab": {
          "base_uri": "https://localhost:8080/"
        },
        "outputId": "d1cf0a53-db11-43a2-df71-4cbfb88074e7"
      },
      "execution_count": null,
      "outputs": [
        {
          "output_type": "execute_result",
          "data": {
            "text/plain": [
              "<sqlite3.Cursor at 0x780c74110440>"
            ]
          },
          "metadata": {},
          "execution_count": 20
        }
      ]
    },
    {
      "cell_type": "code",
      "source": [
        "cursor.execute('''\n",
        "CREATE TABLE pedidos (\n",
        "    id_pedido INTEGER PRIMARY KEY,\n",
        "    id_cliente INTEGER,\n",
        "    data TEXT,\n",
        "    valor REAL,\n",
        "    FOREIGN KEY (id_cliente) REFERENCES clientes(id_cliente)\n",
        ");\n",
        "''')"
      ],
      "metadata": {
        "colab": {
          "base_uri": "https://localhost:8080/"
        },
        "id": "NiZVzgEVppG5",
        "outputId": "61bf1ac3-5bf1-406d-84b1-0a925be40bfc"
      },
      "execution_count": null,
      "outputs": [
        {
          "output_type": "execute_result",
          "data": {
            "text/plain": [
              "<sqlite3.Cursor at 0x780c74110440>"
            ]
          },
          "metadata": {},
          "execution_count": 21
        }
      ]
    },
    {
      "cell_type": "code",
      "source": [
        "cursor.executemany('INSERT INTO clientes (id_cliente, nome) VALUES (?, ?)', [\n",
        "    (1, 'Alice'),\n",
        "    (2, 'Bruno')\n",
        "    ])"
      ],
      "metadata": {
        "colab": {
          "base_uri": "https://localhost:8080/"
        },
        "id": "n5LMA0VXrkZ_",
        "outputId": "e7a10eae-3685-4140-c1d5-a685e2fa2c6d"
      },
      "execution_count": null,
      "outputs": [
        {
          "output_type": "execute_result",
          "data": {
            "text/plain": [
              "<sqlite3.Cursor at 0x780c74110440>"
            ]
          },
          "metadata": {},
          "execution_count": 22
        }
      ]
    },
    {
      "cell_type": "code",
      "source": [
        "cursor.executemany('INSERT INTO pedidos (id_pedido, id_cliente, data, valor) VALUES (?, ?, ?, ?)', [\n",
        "    (1, 1, '2025-06-01', 150.0),\n",
        "    (2, 2, '2025-06-02', 300.0),\n",
        "    (3, 1, '2025-06-03', 200.0)\n",
        "    ])"
      ],
      "metadata": {
        "colab": {
          "base_uri": "https://localhost:8080/"
        },
        "id": "n5e-_yFdr9gF",
        "outputId": "e9d63f33-5689-42c8-d7a6-3046462b1a39"
      },
      "execution_count": null,
      "outputs": [
        {
          "output_type": "execute_result",
          "data": {
            "text/plain": [
              "<sqlite3.Cursor at 0x780c74110440>"
            ]
          },
          "metadata": {},
          "execution_count": 23
        }
      ]
    },
    {
      "cell_type": "code",
      "source": [
        "# 5. Consulta e mostra resultados\n",
        "cursor.execute('''\n",
        "SELECT p.id_pedido, c.nome, p.data, p.valor\n",
        "FROM pedidos p\n",
        "JOIN clientes c ON p.id_cliente = c.id_cliente;\n",
        "''')\n",
        "\n",
        "resultados = cursor.fetchall()\n",
        "\n",
        "print(\"\\n📋 Pedidos cadastrados:\")\n",
        "for id_pedido, nome, data, valor in resultados:\n",
        "  print(f\"Pedido #{id_pedido} | Cliente: {nome} | Data: {data} | Valor: R${valor:.2f}\")"
      ],
      "metadata": {
        "colab": {
          "base_uri": "https://localhost:8080/"
        },
        "id": "d3GrLyf7sn58",
        "outputId": "7dbe6658-6da8-4078-d951-f236293d57f5"
      },
      "execution_count": null,
      "outputs": [
        {
          "output_type": "stream",
          "name": "stdout",
          "text": [
            "\n",
            "📋 Pedidos cadastrados:\n",
            "Pedido #1 | Cliente: Alice | Data: 2025-06-01 | Valor: R$150.00\n",
            "Pedido #2 | Cliente: Bruno | Data: 2025-06-02 | Valor: R$300.00\n",
            "Pedido #3 | Cliente: Alice | Data: 2025-06-03 | Valor: R$200.00\n"
          ]
        }
      ]
    },
    {
      "cell_type": "code",
      "source": [
        "# conn.close()"
      ],
      "metadata": {
        "id": "C2CQBEXss2Fh"
      },
      "execution_count": null,
      "outputs": []
    },
    {
      "cell_type": "code",
      "source": [],
      "metadata": {
        "id": "wbgz3nhGtfLR"
      },
      "execution_count": null,
      "outputs": []
    }
  ]
}